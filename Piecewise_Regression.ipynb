{
 "cells": [
  {
   "cell_type": "code",
   "execution_count": 115,
   "metadata": {
    "ExecuteTime": {
     "end_time": "2019-03-24T04:35:25.767706Z",
     "start_time": "2019-03-24T04:35:25.761695Z"
    }
   },
   "outputs": [],
   "source": [
    "%matplotlib inline\n",
    "import numpy as np\n",
    "import pandas as pd\n",
    "import seaborn as sns\n",
    "from sklearn.model_selection import train_test_split\n",
    "from sklearn.linear_model import LinearRegression\n",
    "from sklearn.metrics import r2_score"
   ]
  },
  {
   "cell_type": "code",
   "execution_count": 116,
   "metadata": {
    "ExecuteTime": {
     "end_time": "2019-03-24T04:35:25.777391Z",
     "start_time": "2019-03-24T04:35:25.770399Z"
    }
   },
   "outputs": [],
   "source": [
    "import warnings\n",
    "warnings.filterwarnings('ignore')"
   ]
  },
  {
   "cell_type": "code",
   "execution_count": 117,
   "metadata": {
    "ExecuteTime": {
     "end_time": "2019-03-24T04:35:25.789785Z",
     "start_time": "2019-03-24T04:35:25.779089Z"
    }
   },
   "outputs": [
    {
     "data": {
      "text/html": [
       "<div>\n",
       "<style scoped>\n",
       "    .dataframe tbody tr th:only-of-type {\n",
       "        vertical-align: middle;\n",
       "    }\n",
       "\n",
       "    .dataframe tbody tr th {\n",
       "        vertical-align: top;\n",
       "    }\n",
       "\n",
       "    .dataframe thead th {\n",
       "        text-align: right;\n",
       "    }\n",
       "</style>\n",
       "<table border=\"1\" class=\"dataframe\">\n",
       "  <thead>\n",
       "    <tr style=\"text-align: right;\">\n",
       "      <th></th>\n",
       "      <th>x</th>\n",
       "      <th>y</th>\n",
       "    </tr>\n",
       "  </thead>\n",
       "  <tbody>\n",
       "    <tr>\n",
       "      <th>0</th>\n",
       "      <td>1658.845908</td>\n",
       "      <td>332.613305</td>\n",
       "    </tr>\n",
       "    <tr>\n",
       "      <th>1</th>\n",
       "      <td>1645.428049</td>\n",
       "      <td>327.999507</td>\n",
       "    </tr>\n",
       "    <tr>\n",
       "      <th>2</th>\n",
       "      <td>1631.959513</td>\n",
       "      <td>325.608188</td>\n",
       "    </tr>\n",
       "    <tr>\n",
       "      <th>3</th>\n",
       "      <td>1618.488526</td>\n",
       "      <td>324.971874</td>\n",
       "    </tr>\n",
       "    <tr>\n",
       "      <th>4</th>\n",
       "      <td>1605.036794</td>\n",
       "      <td>324.247557</td>\n",
       "    </tr>\n",
       "  </tbody>\n",
       "</table>\n",
       "</div>"
      ],
      "text/plain": [
       "             x           y\n",
       "0  1658.845908  332.613305\n",
       "1  1645.428049  327.999507\n",
       "2  1631.959513  325.608188\n",
       "3  1618.488526  324.971874\n",
       "4  1605.036794  324.247557"
      ]
     },
     "execution_count": 117,
     "metadata": {},
     "output_type": "execute_result"
    }
   ],
   "source": [
    "data = pd.read_csv(\"jsed_curve_fit.csv\"); data.head()"
   ]
  },
  {
   "cell_type": "code",
   "execution_count": 118,
   "metadata": {
    "ExecuteTime": {
     "end_time": "2019-03-24T04:35:25.806499Z",
     "start_time": "2019-03-24T04:35:25.792014Z"
    }
   },
   "outputs": [
    {
     "data": {
      "text/html": [
       "<div>\n",
       "<style scoped>\n",
       "    .dataframe tbody tr th:only-of-type {\n",
       "        vertical-align: middle;\n",
       "    }\n",
       "\n",
       "    .dataframe tbody tr th {\n",
       "        vertical-align: top;\n",
       "    }\n",
       "\n",
       "    .dataframe thead th {\n",
       "        text-align: right;\n",
       "    }\n",
       "</style>\n",
       "<table border=\"1\" class=\"dataframe\">\n",
       "  <thead>\n",
       "    <tr style=\"text-align: right;\">\n",
       "      <th></th>\n",
       "      <th>x</th>\n",
       "      <th>y</th>\n",
       "    </tr>\n",
       "  </thead>\n",
       "  <tbody>\n",
       "    <tr>\n",
       "      <th>count</th>\n",
       "      <td>197.000000</td>\n",
       "      <td>197.000000</td>\n",
       "    </tr>\n",
       "    <tr>\n",
       "      <th>mean</th>\n",
       "      <td>640.347605</td>\n",
       "      <td>213.647585</td>\n",
       "    </tr>\n",
       "    <tr>\n",
       "      <th>std</th>\n",
       "      <td>502.637343</td>\n",
       "      <td>67.680877</td>\n",
       "    </tr>\n",
       "    <tr>\n",
       "      <th>min</th>\n",
       "      <td>0.000000</td>\n",
       "      <td>77.671250</td>\n",
       "    </tr>\n",
       "    <tr>\n",
       "      <th>25%</th>\n",
       "      <td>178.475672</td>\n",
       "      <td>166.175834</td>\n",
       "    </tr>\n",
       "    <tr>\n",
       "      <th>50%</th>\n",
       "      <td>563.620186</td>\n",
       "      <td>211.905506</td>\n",
       "    </tr>\n",
       "    <tr>\n",
       "      <th>75%</th>\n",
       "      <td>1056.001593</td>\n",
       "      <td>269.394993</td>\n",
       "    </tr>\n",
       "    <tr>\n",
       "      <th>max</th>\n",
       "      <td>1658.845908</td>\n",
       "      <td>332.613305</td>\n",
       "    </tr>\n",
       "  </tbody>\n",
       "</table>\n",
       "</div>"
      ],
      "text/plain": [
       "                 x           y\n",
       "count   197.000000  197.000000\n",
       "mean    640.347605  213.647585\n",
       "std     502.637343   67.680877\n",
       "min       0.000000   77.671250\n",
       "25%     178.475672  166.175834\n",
       "50%     563.620186  211.905506\n",
       "75%    1056.001593  269.394993\n",
       "max    1658.845908  332.613305"
      ]
     },
     "execution_count": 118,
     "metadata": {},
     "output_type": "execute_result"
    }
   ],
   "source": [
    "data.describe()"
   ]
  },
  {
   "cell_type": "code",
   "execution_count": 119,
   "metadata": {
    "ExecuteTime": {
     "end_time": "2019-03-24T04:35:25.974412Z",
     "start_time": "2019-03-24T04:35:25.809326Z"
    }
   },
   "outputs": [
    {
     "data": {
      "text/plain": [
       "<matplotlib.axes._subplots.AxesSubplot at 0x1a23bfb5c0>"
      ]
     },
     "execution_count": 119,
     "metadata": {},
     "output_type": "execute_result"
    },
    {
     "data": {
      "image/png": "[encoded data removed]",
      "text/plain": [
       "<Figure size 432x288 with 1 Axes>"
      ]
     },
     "metadata": {
      "needs_background": "light"
     },
     "output_type": "display_data"
    }
   ],
   "source": [
    "sns.scatterplot(x=data.x, y=data.y)"
   ]
  },
  {
   "cell_type": "code",
   "execution_count": 120,
   "metadata": {
    "ExecuteTime": {
     "end_time": "2019-03-24T04:35:25.985135Z",
     "start_time": "2019-03-24T04:35:25.975910Z"
    },
    "scrolled": true
   },
   "outputs": [
    {
     "data": {
      "text/html": [
       "<div>\n",
       "<style scoped>\n",
       "    .dataframe tbody tr th:only-of-type {\n",
       "        vertical-align: middle;\n",
       "    }\n",
       "\n",
       "    .dataframe tbody tr th {\n",
       "        vertical-align: top;\n",
       "    }\n",
       "\n",
       "    .dataframe thead th {\n",
       "        text-align: right;\n",
       "    }\n",
       "</style>\n",
       "<table border=\"1\" class=\"dataframe\">\n",
       "  <thead>\n",
       "    <tr style=\"text-align: right;\">\n",
       "      <th></th>\n",
       "      <th>x</th>\n",
       "      <th>y</th>\n",
       "    </tr>\n",
       "  </thead>\n",
       "  <tbody>\n",
       "    <tr>\n",
       "      <th>167</th>\n",
       "      <td>83.090920</td>\n",
       "      <td>134.227466</td>\n",
       "    </tr>\n",
       "    <tr>\n",
       "      <th>166</th>\n",
       "      <td>87.190385</td>\n",
       "      <td>136.649343</td>\n",
       "    </tr>\n",
       "    <tr>\n",
       "      <th>165</th>\n",
       "      <td>91.362564</td>\n",
       "      <td>138.241156</td>\n",
       "    </tr>\n",
       "    <tr>\n",
       "      <th>164</th>\n",
       "      <td>95.606394</td>\n",
       "      <td>139.075286</td>\n",
       "    </tr>\n",
       "    <tr>\n",
       "      <th>163</th>\n",
       "      <td>99.921129</td>\n",
       "      <td>140.548432</td>\n",
       "    </tr>\n",
       "  </tbody>\n",
       "</table>\n",
       "</div>"
      ],
      "text/plain": [
       "             x           y\n",
       "167  83.090920  134.227466\n",
       "166  87.190385  136.649343\n",
       "165  91.362564  138.241156\n",
       "164  95.606394  139.075286\n",
       "163  99.921129  140.548432"
      ]
     },
     "execution_count": 120,
     "metadata": {},
     "output_type": "execute_result"
    }
   ],
   "source": [
    "x1 = data.sort_values('x')[data.x < 100]; x1.tail()"
   ]
  },
  {
   "cell_type": "code",
   "execution_count": 121,
   "metadata": {
    "ExecuteTime": {
     "end_time": "2019-03-24T04:35:25.995383Z",
     "start_time": "2019-03-24T04:35:25.986977Z"
    }
   },
   "outputs": [
    {
     "data": {
      "text/plain": [
       "LinearRegression(copy_X=True, fit_intercept=True, n_jobs=None,\n",
       "         normalize=False)"
      ]
     },
     "execution_count": 121,
     "metadata": {},
     "output_type": "execute_result"
    }
   ],
   "source": [
    "linear_model = LinearRegression()\n",
    "linear_model.fit(pd.DataFrame(x1.x), x1.y)"
   ]
  },
  {
   "cell_type": "code",
   "execution_count": 122,
   "metadata": {
    "ExecuteTime": {
     "end_time": "2019-03-24T04:35:26.004220Z",
     "start_time": "2019-03-24T04:35:25.998638Z"
    }
   },
   "outputs": [],
   "source": [
    "line_x1 = linear_model.predict(pd.DataFrame(x1.x))"
   ]
  },
  {
   "cell_type": "code",
   "execution_count": 123,
   "metadata": {
    "ExecuteTime": {
     "end_time": "2019-03-24T04:35:26.013743Z",
     "start_time": "2019-03-24T04:35:26.007408Z"
    }
   },
   "outputs": [
    {
     "data": {
      "text/plain": [
       "0.9705323774367596"
      ]
     },
     "execution_count": 123,
     "metadata": {},
     "output_type": "execute_result"
    }
   ],
   "source": [
    "r2_score(x1.y, line_x1)"
   ]
  },
  {
   "cell_type": "code",
   "execution_count": 124,
   "metadata": {
    "ExecuteTime": {
     "end_time": "2019-03-24T04:35:26.019833Z",
     "start_time": "2019-03-24T04:35:26.016316Z"
    }
   },
   "outputs": [
    {
     "name": "stdout",
     "output_type": "stream",
     "text": [
      "[0.61924872] 84.8329440742547\n"
     ]
    }
   ],
   "source": [
    "print(linear_model.coef_, linear_model.intercept_)"
   ]
  },
  {
   "cell_type": "code",
   "execution_count": 125,
   "metadata": {
    "ExecuteTime": {
     "end_time": "2019-03-24T04:35:26.202757Z",
     "start_time": "2019-03-24T04:35:26.022391Z"
    }
   },
   "outputs": [
    {
     "data": {
      "text/plain": [
       "<matplotlib.axes._subplots.AxesSubplot at 0x1a210aab70>"
      ]
     },
     "execution_count": 125,
     "metadata": {},
     "output_type": "execute_result"
    },
    {
     "data": {
      "image/png": "[encoded data removed]",
      "text/plain": [
       "<Figure size 432x288 with 1 Axes>"
      ]
     },
     "metadata": {
      "needs_background": "light"
     },
     "output_type": "display_data"
    }
   ],
   "source": [
    "sns.lineplot(x=x1.x, y=line_x1)\n",
    "sns.scatterplot(x=x1.x, y=x1.y)"
   ]
  },
  {
   "cell_type": "code",
   "execution_count": 126,
   "metadata": {
    "ExecuteTime": {
     "end_time": "2019-03-24T04:35:26.211909Z",
     "start_time": "2019-03-24T04:35:26.204175Z"
    }
   },
   "outputs": [
    {
     "data": {
      "text/html": [
       "<div>\n",
       "<style scoped>\n",
       "    .dataframe tbody tr th:only-of-type {\n",
       "        vertical-align: middle;\n",
       "    }\n",
       "\n",
       "    .dataframe tbody tr th {\n",
       "        vertical-align: top;\n",
       "    }\n",
       "\n",
       "    .dataframe thead th {\n",
       "        text-align: right;\n",
       "    }\n",
       "</style>\n",
       "<table border=\"1\" class=\"dataframe\">\n",
       "  <thead>\n",
       "    <tr style=\"text-align: right;\">\n",
       "      <th></th>\n",
       "      <th>x</th>\n",
       "      <th>y</th>\n",
       "    </tr>\n",
       "  </thead>\n",
       "  <tbody>\n",
       "    <tr>\n",
       "      <th>162</th>\n",
       "      <td>104.305085</td>\n",
       "      <td>142.929690</td>\n",
       "    </tr>\n",
       "    <tr>\n",
       "      <th>161</th>\n",
       "      <td>108.752353</td>\n",
       "      <td>144.500418</td>\n",
       "    </tr>\n",
       "    <tr>\n",
       "      <th>160</th>\n",
       "      <td>113.254040</td>\n",
       "      <td>146.077952</td>\n",
       "    </tr>\n",
       "    <tr>\n",
       "      <th>159</th>\n",
       "      <td>117.827547</td>\n",
       "      <td>147.641075</td>\n",
       "    </tr>\n",
       "    <tr>\n",
       "      <th>158</th>\n",
       "      <td>122.478439</td>\n",
       "      <td>149.173611</td>\n",
       "    </tr>\n",
       "  </tbody>\n",
       "</table>\n",
       "</div>"
      ],
      "text/plain": [
       "              x           y\n",
       "162  104.305085  142.929690\n",
       "161  108.752353  144.500418\n",
       "160  113.254040  146.077952\n",
       "159  117.827547  147.641075\n",
       "158  122.478439  149.173611"
      ]
     },
     "execution_count": 126,
     "metadata": {},
     "output_type": "execute_result"
    }
   ],
   "source": [
    "x2 = data.sort_values('x')[data.x >= 100]; x2.head()"
   ]
  },
  {
   "cell_type": "code",
   "execution_count": 127,
   "metadata": {
    "ExecuteTime": {
     "end_time": "2019-03-24T04:35:26.220994Z",
     "start_time": "2019-03-24T04:35:26.213353Z"
    }
   },
   "outputs": [
    {
     "data": {
      "text/plain": [
       "LinearRegression(copy_X=True, fit_intercept=True, n_jobs=None,\n",
       "         normalize=False)"
      ]
     },
     "execution_count": 127,
     "metadata": {},
     "output_type": "execute_result"
    }
   ],
   "source": [
    "linear_model2 = LinearRegression()\n",
    "linear_model2.fit(pd.DataFrame(x2.x), x2.y)"
   ]
  },
  {
   "cell_type": "code",
   "execution_count": 128,
   "metadata": {
    "ExecuteTime": {
     "end_time": "2019-03-24T04:35:26.231741Z",
     "start_time": "2019-03-24T04:35:26.225596Z"
    }
   },
   "outputs": [],
   "source": [
    "line_x2 = linear_model2.predict(pd.DataFrame(x2.x))"
   ]
  },
  {
   "cell_type": "code",
   "execution_count": 129,
   "metadata": {
    "ExecuteTime": {
     "end_time": "2019-03-24T04:35:26.240884Z",
     "start_time": "2019-03-24T04:35:26.234897Z"
    }
   },
   "outputs": [
    {
     "data": {
      "text/plain": [
       "0.9877599938394108"
      ]
     },
     "execution_count": 129,
     "metadata": {},
     "output_type": "execute_result"
    }
   ],
   "source": [
    "r2_score(x2.y, line_x2)"
   ]
  },
  {
   "cell_type": "code",
   "execution_count": 130,
   "metadata": {
    "ExecuteTime": {
     "end_time": "2019-03-24T04:35:26.470016Z",
     "start_time": "2019-03-24T04:35:26.243254Z"
    }
   },
   "outputs": [
    {
     "data": {
      "text/plain": [
       "<matplotlib.axes._subplots.AxesSubplot at 0x1a237ae2b0>"
      ]
     },
     "execution_count": 130,
     "metadata": {},
     "output_type": "execute_result"
    },
    {
     "data": {
      "image/png": "[encoded data removed]",
      "text/plain": [
       "<Figure size 432x288 with 1 Axes>"
      ]
     },
     "metadata": {
      "needs_background": "light"
     },
     "output_type": "display_data"
    }
   ],
   "source": [
    "sns.lineplot(x=x2.x, y=line_x2)\n",
    "sns.scatterplot(x=x2.x, y=x2.y)"
   ]
  },
  {
   "cell_type": "code",
   "execution_count": 131,
   "metadata": {
    "ExecuteTime": {
     "end_time": "2019-03-24T04:35:27.214057Z",
     "start_time": "2019-03-24T04:35:26.471968Z"
    }
   },
   "outputs": [],
   "source": [
    "r1 = []\n",
    "r2 = []\n",
    "model1 = []\n",
    "model2 = []\n",
    "\n",
    "splits = range(1, 101)\n",
    "\n",
    "for split in splits:\n",
    "    x1 = data.sort_values('x')[data.x < split]\n",
    "    x2 = data.sort_values('x')[data.x >= split]\n",
    "    \n",
    "    linear_model1 = LinearRegression()\n",
    "    linear_model1.fit(pd.DataFrame(x1.x), x1.y)\n",
    "    model1.append(linear_model1)\n",
    "    \n",
    "    linear_model2 = LinearRegression()\n",
    "    linear_model2.fit(pd.DataFrame(x2.x), x2.y)\n",
    "    model2.append(linear_model2)\n",
    "    \n",
    "    line_x1 = linear_model1.predict(pd.DataFrame(x1.x))\n",
    "    line_x2 = linear_model2.predict(pd.DataFrame(x2.x))\n",
    "    \n",
    "    r1.append(r2_score(x1.y, line_x1))\n",
    "    r2.append(r2_score(x2.y, line_x2))"
   ]
  },
  {
   "cell_type": "code",
   "execution_count": 132,
   "metadata": {
    "ExecuteTime": {
     "end_time": "2019-03-24T04:35:27.360212Z",
     "start_time": "2019-03-24T04:35:27.215840Z"
    }
   },
   "outputs": [
    {
     "data": {
      "text/plain": [
       "<matplotlib.axes._subplots.AxesSubplot at 0x1a23977c88>"
      ]
     },
     "execution_count": 132,
     "metadata": {},
     "output_type": "execute_result"
    },
    {
     "data": {
      "image/png": "[encoded data removed]",
      "text/plain": [
       "<Figure size 432x288 with 1 Axes>"
      ]
     },
     "metadata": {
      "needs_background": "light"
     },
     "output_type": "display_data"
    }
   ],
   "source": [
    "sns.scatterplot(x=splits, y=r1)\n",
    "sns.scatterplot(x=splits, y=r2)"
   ]
  },
  {
   "cell_type": "code",
   "execution_count": 133,
   "metadata": {
    "ExecuteTime": {
     "end_time": "2019-03-24T04:35:27.365282Z",
     "start_time": "2019-03-24T04:35:27.361755Z"
    }
   },
   "outputs": [
    {
     "name": "stdout",
     "output_type": "stream",
     "text": [
      "63\n"
     ]
    }
   ],
   "source": [
    "for i in splits:\n",
    "    if r1[i-1] < r2[i-1]:\n",
    "        print(i - 1)\n",
    "        break"
   ]
  },
  {
   "cell_type": "code",
   "execution_count": 134,
   "metadata": {
    "ExecuteTime": {
     "end_time": "2019-03-24T04:35:27.372269Z",
     "start_time": "2019-03-24T04:35:27.367115Z"
    }
   },
   "outputs": [],
   "source": [
    "piece1 = model1[63]\n",
    "piece2 = model2[63]"
   ]
  },
  {
   "cell_type": "code",
   "execution_count": 136,
   "metadata": {
    "ExecuteTime": {
     "end_time": "2019-03-24T04:36:00.505479Z",
     "start_time": "2019-03-24T04:36:00.498725Z"
    }
   },
   "outputs": [
    {
     "data": {
      "text/plain": [
       "array([129.66954983, 126.94415226, 124.27941003, 121.67588344,\n",
       "       119.13393142, 116.65432275, 114.2371286 , 111.88423237,\n",
       "       109.5959489 , 107.37271172, 105.21544788, 103.12563779,\n",
       "       101.10385421,  99.15086465,  97.26701465,  95.45320281,\n",
       "        93.70289028,  92.00330389,  90.36342253,  88.78704082,\n",
       "        87.27634871,  85.8329165 ,  84.45801154,  83.15301685,\n",
       "        81.9205041 ])"
      ]
     },
     "execution_count": 136,
     "metadata": {},
     "output_type": "execute_result"
    }
   ],
   "source": [
    "piece1.predict(pd.DataFrame(data.x[data.x < 64]))"
   ]
  },
  {
   "cell_type": "code",
   "execution_count": 138,
   "metadata": {
    "ExecuteTime": {
     "end_time": "2019-03-24T04:36:44.711475Z",
     "start_time": "2019-03-24T04:36:44.708003Z"
    }
   },
   "outputs": [],
   "source": [
    "data['predictions'] = 0"
   ]
  },
  {
   "cell_type": "code",
   "execution_count": 139,
   "metadata": {
    "ExecuteTime": {
     "end_time": "2019-03-24T04:36:46.934702Z",
     "start_time": "2019-03-24T04:36:46.722216Z"
    }
   },
   "outputs": [],
   "source": [
    "data['predictions'][data.x < 64] = piece1.predict(pd.DataFrame(data.x[data.x < 64]))"
   ]
  },
  {
   "cell_type": "code",
   "execution_count": 144,
   "metadata": {
    "ExecuteTime": {
     "end_time": "2019-03-24T04:38:47.718405Z",
     "start_time": "2019-03-24T04:38:47.518726Z"
    }
   },
   "outputs": [],
   "source": [
    "data['predictions'][data.x >= 64] = piece2.predict(pd.DataFrame(data.x[data.x >= 64]))"
   ]
  },
  {
   "cell_type": "code",
   "execution_count": 145,
   "metadata": {
    "ExecuteTime": {
     "end_time": "2019-03-24T04:38:48.338285Z",
     "start_time": "2019-03-24T04:38:48.333811Z"
    }
   },
   "outputs": [
    {
     "data": {
      "text/plain": [
       "0.9889560235446792"
      ]
     },
     "execution_count": 145,
     "metadata": {},
     "output_type": "execute_result"
    }
   ],
   "source": [
    "r2_score(data.y, data.predictions)"
   ]
  },
  {
   "cell_type": "code",
   "execution_count": null,
   "metadata": {},
   "outputs": [],
   "source": []
  }
 ],
 "metadata": {
  "kernelspec": {
   "display_name": "Python 3",
   "language": "python",
   "name": "python3"
  },
  "language_info": {
   "codemirror_mode": {
    "name": "ipython",
    "version": 3
   },
   "file_extension": ".py",
   "mimetype": "text/x-python",
   "name": "python",
   "nbconvert_exporter": "python",
   "pygments_lexer": "ipython3",
   "version": "3.7.2"
  }
 },
 "nbformat": 4,
 "nbformat_minor": 2
}
