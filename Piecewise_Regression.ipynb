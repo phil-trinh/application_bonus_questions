{
 "cells": [
  {
   "cell_type": "markdown",
   "metadata": {},
   "source": [
    "# Setup"
   ]
  },
  {
   "cell_type": "code",
   "execution_count": 1,
   "metadata": {
    "ExecuteTime": {
     "end_time": "2019-03-25T04:33:22.522127Z",
     "start_time": "2019-03-25T04:33:21.677836Z"
    }
   },
   "outputs": [],
   "source": [
    "import pandas as pd\n",
    "import seaborn as sns\n",
    "from sklearn.model_selection import train_test_split\n",
    "from sklearn.linear_model import LinearRegression\n",
    "from sklearn.metrics import r2_score"
   ]
  },
  {
   "cell_type": "markdown",
   "metadata": {},
   "source": [
    "Suppress unnecessary warnings"
   ]
  },
  {
   "cell_type": "code",
   "execution_count": 2,
   "metadata": {
    "ExecuteTime": {
     "end_time": "2019-03-25T04:33:22.526337Z",
     "start_time": "2019-03-25T04:33:22.523911Z"
    }
   },
   "outputs": [],
   "source": [
    "import warnings\n",
    "warnings.filterwarnings('ignore')"
   ]
  },
  {
   "cell_type": "markdown",
   "metadata": {},
   "source": [
    "# Data Load"
   ]
  },
  {
   "cell_type": "code",
   "execution_count": 3,
   "metadata": {
    "ExecuteTime": {
     "end_time": "2019-03-25T04:33:22.541640Z",
     "start_time": "2019-03-25T04:33:22.528475Z"
    }
   },
   "outputs": [
    {
     "data": {
      "text/html": [
       "<div>\n",
       "<style scoped>\n",
       "    .dataframe tbody tr th:only-of-type {\n",
       "        vertical-align: middle;\n",
       "    }\n",
       "\n",
       "    .dataframe tbody tr th {\n",
       "        vertical-align: top;\n",
       "    }\n",
       "\n",
       "    .dataframe thead th {\n",
       "        text-align: right;\n",
       "    }\n",
       "</style>\n",
       "<table border=\"1\" class=\"dataframe\">\n",
       "  <thead>\n",
       "    <tr style=\"text-align: right;\">\n",
       "      <th></th>\n",
       "      <th>x</th>\n",
       "      <th>y</th>\n",
       "    </tr>\n",
       "  </thead>\n",
       "  <tbody>\n",
       "    <tr>\n",
       "      <th>0</th>\n",
       "      <td>1658.845908</td>\n",
       "      <td>332.613305</td>\n",
       "    </tr>\n",
       "    <tr>\n",
       "      <th>1</th>\n",
       "      <td>1645.428049</td>\n",
       "      <td>327.999507</td>\n",
       "    </tr>\n",
       "    <tr>\n",
       "      <th>2</th>\n",
       "      <td>1631.959513</td>\n",
       "      <td>325.608188</td>\n",
       "    </tr>\n",
       "    <tr>\n",
       "      <th>3</th>\n",
       "      <td>1618.488526</td>\n",
       "      <td>324.971874</td>\n",
       "    </tr>\n",
       "    <tr>\n",
       "      <th>4</th>\n",
       "      <td>1605.036794</td>\n",
       "      <td>324.247557</td>\n",
       "    </tr>\n",
       "  </tbody>\n",
       "</table>\n",
       "</div>"
      ],
      "text/plain": [
       "             x           y\n",
       "0  1658.845908  332.613305\n",
       "1  1645.428049  327.999507\n",
       "2  1631.959513  325.608188\n",
       "3  1618.488526  324.971874\n",
       "4  1605.036794  324.247557"
      ]
     },
     "execution_count": 3,
     "metadata": {},
     "output_type": "execute_result"
    }
   ],
   "source": [
    "data = pd.read_csv(\"jsed_curve_fit.csv\"); data.head()"
   ]
  },
  {
   "cell_type": "code",
   "execution_count": 4,
   "metadata": {
    "ExecuteTime": {
     "end_time": "2019-03-25T04:33:22.557310Z",
     "start_time": "2019-03-25T04:33:22.543838Z"
    }
   },
   "outputs": [
    {
     "data": {
      "text/html": [
       "<div>\n",
       "<style scoped>\n",
       "    .dataframe tbody tr th:only-of-type {\n",
       "        vertical-align: middle;\n",
       "    }\n",
       "\n",
       "    .dataframe tbody tr th {\n",
       "        vertical-align: top;\n",
       "    }\n",
       "\n",
       "    .dataframe thead th {\n",
       "        text-align: right;\n",
       "    }\n",
       "</style>\n",
       "<table border=\"1\" class=\"dataframe\">\n",
       "  <thead>\n",
       "    <tr style=\"text-align: right;\">\n",
       "      <th></th>\n",
       "      <th>x</th>\n",
       "      <th>y</th>\n",
       "    </tr>\n",
       "  </thead>\n",
       "  <tbody>\n",
       "    <tr>\n",
       "      <th>count</th>\n",
       "      <td>197.000000</td>\n",
       "      <td>197.000000</td>\n",
       "    </tr>\n",
       "    <tr>\n",
       "      <th>mean</th>\n",
       "      <td>640.347605</td>\n",
       "      <td>213.647585</td>\n",
       "    </tr>\n",
       "    <tr>\n",
       "      <th>std</th>\n",
       "      <td>502.637343</td>\n",
       "      <td>67.680877</td>\n",
       "    </tr>\n",
       "    <tr>\n",
       "      <th>min</th>\n",
       "      <td>0.000000</td>\n",
       "      <td>77.671250</td>\n",
       "    </tr>\n",
       "    <tr>\n",
       "      <th>25%</th>\n",
       "      <td>178.475672</td>\n",
       "      <td>166.175834</td>\n",
       "    </tr>\n",
       "    <tr>\n",
       "      <th>50%</th>\n",
       "      <td>563.620186</td>\n",
       "      <td>211.905506</td>\n",
       "    </tr>\n",
       "    <tr>\n",
       "      <th>75%</th>\n",
       "      <td>1056.001593</td>\n",
       "      <td>269.394993</td>\n",
       "    </tr>\n",
       "    <tr>\n",
       "      <th>max</th>\n",
       "      <td>1658.845908</td>\n",
       "      <td>332.613305</td>\n",
       "    </tr>\n",
       "  </tbody>\n",
       "</table>\n",
       "</div>"
      ],
      "text/plain": [
       "                 x           y\n",
       "count   197.000000  197.000000\n",
       "mean    640.347605  213.647585\n",
       "std     502.637343   67.680877\n",
       "min       0.000000   77.671250\n",
       "25%     178.475672  166.175834\n",
       "50%     563.620186  211.905506\n",
       "75%    1056.001593  269.394993\n",
       "max    1658.845908  332.613305"
      ]
     },
     "execution_count": 4,
     "metadata": {},
     "output_type": "execute_result"
    }
   ],
   "source": [
    "data.describe()"
   ]
  },
  {
   "cell_type": "markdown",
   "metadata": {},
   "source": [
    "# Exploration and Understanding"
   ]
  },
  {
   "cell_type": "code",
   "execution_count": 5,
   "metadata": {
    "ExecuteTime": {
     "end_time": "2019-03-25T04:33:22.718172Z",
     "start_time": "2019-03-25T04:33:22.558934Z"
    }
   },
   "outputs": [
    {
     "data": {
      "text/plain": [
       "<matplotlib.axes._subplots.AxesSubplot at 0x1117e7a90>"
      ]
     },
     "execution_count": 5,
     "metadata": {},
     "output_type": "execute_result"
    },
    {
     "data": {
      "image/png": "[encoded data removed]",
      "text/plain": [
       "<Figure size 432x288 with 1 Axes>"
      ]
     },
     "metadata": {
      "needs_background": "light"
     },
     "output_type": "display_data"
    }
   ],
   "source": [
    "sns.scatterplot(x=data.x, y=data.y)"
   ]
  },
  {
   "cell_type": "markdown",
   "metadata": {},
   "source": [
    "Early `x` values increase dramatically but then taper off and increase at a different linear rate. This would warrant two different piecewise linear regression functions. To find the most optimal, let's iteratively split at different `x` values to fit two linear regression functions, calculate the $R^2$ score, and maximize the score for both functions."
   ]
  },
  {
   "cell_type": "markdown",
   "metadata": {},
   "source": [
    "# Training Piece-Wise Model"
   ]
  },
  {
   "cell_type": "code",
   "execution_count": 6,
   "metadata": {
    "ExecuteTime": {
     "end_time": "2019-03-25T04:33:23.383378Z",
     "start_time": "2019-03-25T04:33:22.719641Z"
    }
   },
   "outputs": [],
   "source": [
    "# Keep track of R^2 scores of both linear functions\n",
    "r1 = []\n",
    "r2 = []\n",
    "# Also keep track of both linear models while testing different splits\n",
    "model1 = []\n",
    "model2 = []\n",
    "\n",
    "# The range of splits looks to be best between 1 and 100\n",
    "splits = range(1, 101)\n",
    "\n",
    "for split in splits:\n",
    "    # Split x values\n",
    "    x1 = data.sort_values('x')[data.x < split]\n",
    "    x2 = data.sort_values('x')[data.x >= split]\n",
    "    \n",
    "    # Fit linear model on first set of x's\n",
    "    linear_model1 = LinearRegression()\n",
    "    linear_model1.fit(pd.DataFrame(x1.x), x1.y)\n",
    "    model1.append(linear_model1)\n",
    "    \n",
    "    # Fit on the second set of x's\n",
    "    linear_model2 = LinearRegression()\n",
    "    linear_model2.fit(pd.DataFrame(x2.x), x2.y)\n",
    "    model2.append(linear_model2)\n",
    "    \n",
    "    # Predict the values of y for each model\n",
    "    line_x1 = linear_model1.predict(pd.DataFrame(x1.x))\n",
    "    line_x2 = linear_model2.predict(pd.DataFrame(x2.x))\n",
    "    \n",
    "    # Calculate R^2 scores for both models\n",
    "    r1.append(r2_score(x1.y, line_x1))\n",
    "    r2.append(r2_score(x2.y, line_x2))"
   ]
  },
  {
   "cell_type": "markdown",
   "metadata": {},
   "source": [
    "Plot the $R^2$ scores to determine optimized `x` split"
   ]
  },
  {
   "cell_type": "code",
   "execution_count": 7,
   "metadata": {
    "ExecuteTime": {
     "end_time": "2019-03-25T04:33:23.673202Z",
     "start_time": "2019-03-25T04:33:23.384772Z"
    }
   },
   "outputs": [
    {
     "data": {
      "text/plain": [
       "<matplotlib.legend.Legend at 0x1a24d636d8>"
      ]
     },
     "execution_count": 7,
     "metadata": {},
     "output_type": "execute_result"
    },
    {
     "data": {
      "image/png": "[encoded data removed]",
      "text/plain": [
       "<Figure size 432x288 with 1 Axes>"
      ]
     },
     "metadata": {
      "needs_background": "light"
     },
     "output_type": "display_data"
    }
   ],
   "source": [
    "ax = sns.scatterplot(x=splits, y=r1, label=\"Model 1\")\n",
    "ax = sns.scatterplot(x=splits, y=r2, label=\"Model 2\")\n",
    "ax.set(title=r\"$R^2$ Scores at Different Splits for x\", xlabel=\"x\", ylabel=r\"$R^2$ Scores\")\n",
    "ax.legend()"
   ]
  },
  {
   "cell_type": "markdown",
   "metadata": {},
   "source": [
    "Search through split values to determine exact value of `x` by seeing when model 1 $R^2$ scores fall at or below $R^2$ scores of model 2."
   ]
  },
  {
   "cell_type": "code",
   "execution_count": 8,
   "metadata": {
    "ExecuteTime": {
     "end_time": "2019-03-25T04:33:23.679209Z",
     "start_time": "2019-03-25T04:33:23.675353Z"
    }
   },
   "outputs": [
    {
     "name": "stdout",
     "output_type": "stream",
     "text": [
      "Optimal Split: 63\n"
     ]
    }
   ],
   "source": [
    "# Indecies are i - 1 since splits starts at 1\n",
    "for i in splits:\n",
    "    if r1[i-1] <= r2[i-1]:\n",
    "        optimal_split = i - 1\n",
    "        break\n",
    "print(f\"Optimal Split: {optimal_split}\")"
   ]
  },
  {
   "cell_type": "markdown",
   "metadata": {},
   "source": [
    "Obtain linear model for both piece-wise functions at the same index."
   ]
  },
  {
   "cell_type": "code",
   "execution_count": 9,
   "metadata": {
    "ExecuteTime": {
     "end_time": "2019-03-25T04:33:23.686514Z",
     "start_time": "2019-03-25T04:33:23.681003Z"
    }
   },
   "outputs": [],
   "source": [
    "piece1 = model1[optimal_split]\n",
    "piece2 = model2[optimal_split]"
   ]
  },
  {
   "cell_type": "markdown",
   "metadata": {},
   "source": [
    "# Prediction with Piece-Wise Model"
   ]
  },
  {
   "cell_type": "markdown",
   "metadata": {},
   "source": [
    "Predict all values of `y` for all of `x` through the piece-wise function. Any `x` values $\\leq$ the optimal split is predicted with model 1 and values $\\gt$ the optimal split is predicted with model 2."
   ]
  },
  {
   "cell_type": "code",
   "execution_count": 10,
   "metadata": {
    "ExecuteTime": {
     "end_time": "2019-03-25T04:33:23.786158Z",
     "start_time": "2019-03-25T04:33:23.688729Z"
    }
   },
   "outputs": [],
   "source": [
    "# Create Predictions column\n",
    "data['predictions'] = 0\n",
    "data['predictions'][data.x <= optimal_split] = piece1.predict(pd.DataFrame(data.x[data.x <= optimal_split]))\n",
    "data['predictions'][data.x > optimal_split] = piece2.predict(pd.DataFrame(data.x[data.x > optimal_split]))"
   ]
  },
  {
   "cell_type": "markdown",
   "metadata": {},
   "source": [
    "# Performance Evaluation"
   ]
  },
  {
   "cell_type": "code",
   "execution_count": 11,
   "metadata": {
    "ExecuteTime": {
     "end_time": "2019-03-25T04:33:23.794285Z",
     "start_time": "2019-03-25T04:33:23.788447Z"
    }
   },
   "outputs": [
    {
     "data": {
      "text/plain": [
       "0.9882882096047316"
      ]
     },
     "execution_count": 11,
     "metadata": {},
     "output_type": "execute_result"
    }
   ],
   "source": [
    "# Final R^2 Score\n",
    "r2_score(data.y, data.predictions)"
   ]
  },
  {
   "cell_type": "markdown",
   "metadata": {},
   "source": [
    "The goal was to train a piece-wise linear function that would have an $R^2$ Coefficient of Determination $\\gt$ 95%. We have exceeded this goal and would conclude that this function would perform well as a piece-wise linear best-fit approximation to the data given."
   ]
  }
 ],
 "metadata": {
  "kernelspec": {
   "display_name": "Python 3",
   "language": "python",
   "name": "python3"
  },
  "language_info": {
   "codemirror_mode": {
    "name": "ipython",
    "version": 3
   },
   "file_extension": ".py",
   "mimetype": "text/x-python",
   "name": "python",
   "nbconvert_exporter": "python",
   "pygments_lexer": "ipython3",
   "version": "3.7.2"
  }
 },
 "nbformat": 4,
 "nbformat_minor": 2
}
